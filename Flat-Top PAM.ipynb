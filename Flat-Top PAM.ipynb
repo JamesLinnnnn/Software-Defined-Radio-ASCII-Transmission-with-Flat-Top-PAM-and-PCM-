{
 "cells": [
  {
   "cell_type": "code",
   "execution_count": 1,
   "id": "36ee1a2b",
   "metadata": {
    "scrolled": true
   },
   "outputs": [],
   "source": [
    "import numpy as np\n",
    "import ascfun as af\n",
    "import matplotlib.pyplot as plt\n",
    "def ftpam01(txt, Fb, Fs):\n",
    "    \"\"\"\n",
    "    Function that accepts an ASCII text string as input and\n",
    "    produces a corresponding binary unipolar flat-top PAM\n",
    "    signal s(t) with bit rate Fb and sampling rate Fs.\n",
    "    >>>>> tt, st = ftpam01(txt, Fb, Fs) <<<<<\n",
    "    where tt: time axis for PAM signal s(t) (starting at -Tb/2)\n",
    "        st: flat-top PAM signal s(t)\n",
    "        s(t) = dn, (n-1/2)*Tb <= t < (n+1/2)*Tb\n",
    "        txt: ASCII text string, 8 bits/symbol,\n",
    "             converted to LSB-first bitstream dn\n",
    "        Fb: bit rate of dn, Tb=1/Fb\n",
    "        Fs: sampling rate of s(t)\n",
    "    \"\"\"\n",
    "    bits = 8 # Bits per ASCII symbol\n",
    "    # >> Convert txt to bitstream dn here, LSB-first <<\n",
    "    dn = af.asc2bin(txt, bits = 8)\n",
    "    N = len(dn) # Total number of bits\n",
    "    Tb = 1/float(Fb) # Time per bit\n",
    "    ixL = round(-0.5*Fs*Tb) # Left index for time axis\n",
    "    ixR = round((N-0.5)*Fs*Tb) # Right index for time axis\n",
    "    tt = np.arange(ixL, ixR)/float(Fs) # Time axis for s(t)\n",
    "    # >> Generate flat-top PAM signal s(t) here <<\n",
    "    st = np.sign(dn)\n",
    "    return tt, st\n"
   ]
  },
  {
   "cell_type": "code",
   "execution_count": 3,
   "id": "8ba45910",
   "metadata": {},
   "outputs": [
    {
     "data": {
      "image/png": "[encoded data removed]",
      "text/plain": [
       "<Figure size 720x180 with 1 Axes>"
      ]
     },
     "metadata": {
      "needs_background": "light"
     },
     "output_type": "display_data"
    }
   ],
   "source": [
    "txt = 'jjjkk8789gikui8iuy987987898h..//??k'\n",
    "\n",
    "Fb=100\n",
    "Fs = 44100\n",
    "tt, st = ftpam01(txt, Fb, Fs)\n",
    "data = np.repeat(st, 2)\n",
    "t = 0.5 * np.arange(len(data))/Fb\n",
    "t1 = t - 0.005\n",
    "fsz = (10,2.5)\n",
    "plt.figure(1,figsize=fsz)\n",
    "plt.step(t1, data, 'b', linewidth = 2, where = 'post')\n",
    "plt.plot(t[::2], st ,\"rx\",label='Samples at t=n$T_b$')\n",
    "\n",
    "plt.ylim(-0.2,1.2)\n",
    "str = 'Unipolar Binary Flap-top PAM for String \\'C\\' '\n",
    "str = str + ',$F_b={}$ bits/sec,$F_s={}$ Hz'.format(Fb,Fs)\n",
    "plt.title(str)    \n",
    "plt.ylabel('$s(t)$')\n",
    "plt.xlabel('t [sec]')\n",
    "plt.legend()   \n",
    "plt.grid()\n",
    "plt.show()"
   ]
  },
  {
   "cell_type": "code",
   "execution_count": 4,
   "id": "2017f18f",
   "metadata": {},
   "outputs": [
    {
     "data": {
      "text/plain": [
       "(44100,\n",
       " array([0.        , 0.98998994, 0.        , 0.98998994, 0.        ,\n",
       "        0.98998994, 0.98998994, 0.        , 0.        , 0.98998994,\n",
       "        0.        , 0.98998994, 0.        , 0.98998994, 0.98998994,\n",
       "        0.        , 0.        , 0.98998994, 0.        , 0.98998994,\n",
       "        0.        , 0.98998994, 0.98998994, 0.        , 0.98998994,\n",
       "        0.98998994, 0.        , 0.98998994, 0.        , 0.98998994,\n",
       "        0.98998994, 0.        , 0.98998994, 0.98998994, 0.        ,\n",
       "        0.98998994, 0.        , 0.98998994, 0.98998994, 0.        ,\n",
       "        0.        , 0.        , 0.        , 0.98998994, 0.98998994,\n",
       "        0.98998994, 0.        , 0.        , 0.98998994, 0.98998994,\n",
       "        0.98998994, 0.        , 0.98998994, 0.98998994, 0.        ,\n",
       "        0.        , 0.        , 0.        , 0.        , 0.98998994,\n",
       "        0.98998994, 0.98998994, 0.        , 0.        , 0.98998994,\n",
       "        0.        , 0.        , 0.98998994, 0.98998994, 0.98998994,\n",
       "        0.        , 0.        , 0.98998994, 0.98998994, 0.98998994,\n",
       "        0.        , 0.        , 0.98998994, 0.98998994, 0.        ,\n",
       "        0.98998994, 0.        , 0.        , 0.98998994, 0.        ,\n",
       "        0.98998994, 0.98998994, 0.        , 0.98998994, 0.98998994,\n",
       "        0.        , 0.98998994, 0.        , 0.98998994, 0.98998994,\n",
       "        0.        , 0.98998994, 0.        , 0.98998994, 0.        ,\n",
       "        0.98998994, 0.98998994, 0.98998994, 0.        , 0.98998994,\n",
       "        0.        , 0.        , 0.98998994, 0.        , 0.98998994,\n",
       "        0.98998994, 0.        , 0.        , 0.        , 0.        ,\n",
       "        0.98998994, 0.98998994, 0.98998994, 0.        , 0.        ,\n",
       "        0.98998994, 0.        , 0.        , 0.98998994, 0.        ,\n",
       "        0.98998994, 0.98998994, 0.        , 0.98998994, 0.        ,\n",
       "        0.98998994, 0.        , 0.98998994, 0.98998994, 0.98998994,\n",
       "        0.        , 0.98998994, 0.        , 0.        , 0.98998994,\n",
       "        0.98998994, 0.98998994, 0.98998994, 0.        , 0.98998994,\n",
       "        0.        , 0.        , 0.98998994, 0.98998994, 0.98998994,\n",
       "        0.        , 0.        , 0.        , 0.        , 0.        ,\n",
       "        0.98998994, 0.98998994, 0.98998994, 0.        , 0.        ,\n",
       "        0.98998994, 0.98998994, 0.98998994, 0.        , 0.98998994,\n",
       "        0.98998994, 0.        , 0.        , 0.98998994, 0.        ,\n",
       "        0.        , 0.98998994, 0.98998994, 0.98998994, 0.        ,\n",
       "        0.        , 0.        , 0.        , 0.        , 0.98998994,\n",
       "        0.98998994, 0.98998994, 0.        , 0.        , 0.98998994,\n",
       "        0.98998994, 0.98998994, 0.        , 0.98998994, 0.98998994,\n",
       "        0.        , 0.        , 0.        , 0.        , 0.        ,\n",
       "        0.98998994, 0.98998994, 0.98998994, 0.        , 0.        ,\n",
       "        0.98998994, 0.        , 0.        , 0.98998994, 0.98998994,\n",
       "        0.98998994, 0.        , 0.        , 0.        , 0.        ,\n",
       "        0.        , 0.98998994, 0.98998994, 0.98998994, 0.        ,\n",
       "        0.        , 0.        , 0.        , 0.        , 0.98998994,\n",
       "        0.        , 0.98998994, 0.98998994, 0.        , 0.        ,\n",
       "        0.98998994, 0.98998994, 0.98998994, 0.        , 0.98998994,\n",
       "        0.        , 0.        , 0.        , 0.98998994, 0.98998994,\n",
       "        0.98998994, 0.        , 0.98998994, 0.        , 0.        ,\n",
       "        0.98998994, 0.98998994, 0.98998994, 0.98998994, 0.        ,\n",
       "        0.98998994, 0.        , 0.        , 0.98998994, 0.98998994,\n",
       "        0.98998994, 0.98998994, 0.        , 0.98998994, 0.        ,\n",
       "        0.        , 0.98998994, 0.98998994, 0.98998994, 0.98998994,\n",
       "        0.98998994, 0.98998994, 0.        , 0.        , 0.98998994,\n",
       "        0.98998994, 0.98998994, 0.98998994, 0.98998994, 0.98998994,\n",
       "        0.        , 0.        , 0.98998994, 0.98998994, 0.        ,\n",
       "        0.98998994, 0.        , 0.98998994, 0.98998994, 0.        ],\n",
       "       dtype=float32))"
      ]
     },
     "execution_count": 4,
     "metadata": {},
     "output_type": "execute_result"
    }
   ],
   "source": [
    "import wavfun as wf\n",
    "wf.wavwrite('MyTest.wav',Fs,0.99*st/float(max(abs(st)))) # Write wav-file\n",
    "wf.wavread('MyTest.wav')"
   ]
  },
  {
   "cell_type": "code",
   "execution_count": 5,
   "id": "d3be2ecd",
   "metadata": {},
   "outputs": [],
   "source": [
    "import numpy as np\n",
    "def ftpam_rcvr01(tt, rt, Fbparms):\n",
    "    \"\"\"\n",
    "    Binary unipolar Flat-top PAM sampling receiver for input signal\n",
    "    r(t) with bitrate Fb and sampling rate Fs. The PAM signal rt\n",
    "    with associated time axis tt (starting at -0.5*Tb) is sampled\n",
    "    at times t = n*Tb + dly*Tb, where 0<=dly<1 is a delay parameter,\n",
    "    to obtain a DT sequence rn.\n",
    "    >>>>> rn, ixn = ftpam_rcvr01(tt, rt, Fbparms) <<<<<\n",
    "    where rn: sampled DT sequence\n",
    "        ixn: sampling time indexes\n",
    "        tt: time axis for r(t)\n",
    "        rt: received (noisy) PAM signal r(t)\n",
    "        Fbparms: = [Fb, dly]\n",
    "        Fb: Bit rate of PAM signal, Tb=1/Fb\n",
    "        dly: sampling delay for r(t) -> r_n as a fraction of Tb\n",
    "        sampling times are t=n*Tb+t0 where t0 = dly*Tb\n",
    "    \"\"\"\n",
    "    if type(Fbparms)==int:\n",
    "        Fb, dly = Fbparms, 0\n",
    "    else:\n",
    "        Fb, dly = Fbparms[0], 0\n",
    "    if len(Fbparms) > 1:\n",
    "        dly = Fbparms[1]\n",
    "    Fs = (len(tt)-1)/(tt[-1]-tt[0]) # Extract sampling rate\n",
    "    #>> Compute sampling indexes ixn and samples rn here <<\n",
    "    n = len(rt)\n",
    "    ixn =(n+dly)/float(Fb)\n",
    "    rn  =  np.sign(rt)\n",
    "    return rn, ixn"
   ]
  },
  {
   "cell_type": "code",
   "execution_count": 6,
   "id": "bb99ab8b",
   "metadata": {},
   "outputs": [
    {
     "name": "stdout",
     "output_type": "stream",
     "text": [
      "The Final Result of PAM = jjjkk8789gikui8iuy987987898h..//??k\n"
     ]
    }
   ],
   "source": [
    "import numpy as np\n",
    "import ascfun as af\n",
    "import wavfun as wf\n",
    "Fb = 100 # Data bit rate\n",
    "Fs, rt = wf.wavread('MyTest.wav')\n",
    "tt = np.arange(rt.size)/float(Fs)-1/(2.0*Fb) # Time axis for rt\n",
    "Fbparms = [Fb, 0]\n",
    "rn, ixn = ftpam_rcvr01(tt, rt, Fbparms)\n",
    "dnhat =  np.floor(rn)\n",
    "txthat =  af.bin2asc(dnhat, bits=8, flg=1) # >>Convert bitstream dnhat to received text string<<\n",
    "print(\"The Final Result of PAM = %s\" % txthat) # Print result"
   ]
  },
  {
   "cell_type": "code",
   "execution_count": null,
   "id": "1eaf8804",
   "metadata": {},
   "outputs": [],
   "source": []
  }
 ],
 "metadata": {
  "kernelspec": {
   "display_name": "Python 3",
   "language": "python",
   "name": "python3"
  },
  "language_info": {
   "codemirror_mode": {
    "name": "ipython",
    "version": 3
   },
   "file_extension": ".py",
   "mimetype": "text/x-python",
   "name": "python",
   "nbconvert_exporter": "python",
   "pygments_lexer": "ipython3",
   "version": "3.8.8"
  }
 },
 "nbformat": 4,
 "nbformat_minor": 5
}
