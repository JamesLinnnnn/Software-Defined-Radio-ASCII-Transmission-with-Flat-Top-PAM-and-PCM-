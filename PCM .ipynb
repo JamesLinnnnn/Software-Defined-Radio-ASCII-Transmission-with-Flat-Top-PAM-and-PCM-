{
 "cells": [
  {
   "cell_type": "code",
   "execution_count": 1,
   "id": "a947291a",
   "metadata": {},
   "outputs": [],
   "source": [
    "#File: pcmfun.py\n",
    "# Functions for conversion between m(t) and PCM representation\n",
    "from pylab import *\n",
    "import numpy as np\n",
    "def mt2pcm(mt, bits=8):\n",
    "    \"\"\"\n",
    "    Message signal m(t) to binary PCM conversion\n",
    "    >>>>> dn = mt2pcm(mt, bits) <<<<<\n",
    "    where \n",
    "    mt   normalized (A=1) \"analog\" message signal\n",
    "    bits  number of bits used per sample\n",
    "    dn    binary output sequence in sign-magnitude\n",
    "          form, MSB (sign) first\n",
    "    \"\"\"\n",
    "    step_size = 2/2**(bits)# total dynamic range/number of levels\n",
    "    qt = (mt*2**(bits-1))   #Scaling the signal by dividing step size to make step size 1\n",
    "    corr = array([int(sign(c)) for c in mt]) # Since we cannot represent 2**(bits-1) value, we apply different correction factor\n",
    "                                             # for positive values and negative values \n",
    "    dt = qt -corr/2 \n",
    "    dt = array([int(floor(c)) for c in dt]) \n",
    "    bit_seq = []\n",
    "    # Decimal to binay conversion - first MSB Rule\n",
    "    for index in arange(size(qt)):\n",
    "        if sign(dt[index]) <0:\n",
    "            sign_bit = 1\n",
    "            dt[index] = abs(dt[index]+1);\n",
    "        else:\n",
    "            sign_bit = 0\n",
    "        p2 = np.power(2.0,arange(-bits+1,0,1)+1)\n",
    "        B = array(mod(floor(outer(dt[index],p2)),2),int)\n",
    "        B= reshape(B,size(B))\n",
    "        C = insert(B,0,sign_bit)\n",
    "        bit_seq = insert(bit_seq,len(bit_seq),C)\n",
    "    return bit_seq\n",
    "\n",
    "def pcm2mt(dn, bits=8):\n",
    "    \"\"\"\n",
    "    Binary PCM to message signal m(t) conversion\n",
    "    >>>>> mt = pcm2mt(dn, bits) <<<<<\n",
    "    where dn binary output sequence in sign-magnitude\n",
    "    form, MSB (sign) first\n",
    "    bits number of bits used per sample\n",
    "    mt normalized (A=1) \"analog\" message signal\n",
    "    \"\"\"\n",
    "    # n-bit Binary to  Decimal conversion - first MSB Rule\n",
    "    no_of_dec = int(floor(size(dn)/abs(bits)))\n",
    "    dec =[0]*(no_of_dec) #Initializing array for decimal values with zeros \n",
    "    # Pos powers of 2, decreasing exp\n",
    "    p2 = np.power(2.0,-1+arange(bits-1,0,-1))\n",
    "    for index in arange(no_of_dec):# loop for converting nbit binary value to decimal value sequenctially from the input bit sequence\n",
    "        dec_num = int(inner(dn[bits*index+arange(1,bits)],p2))\n",
    "        sign_bit = dn[bits*index]\n",
    "        if sign_bit>0:\n",
    "            dec[index] = -dec_num -1\n",
    "        else:\n",
    "            dec[index] = dec_num\n",
    "    dec = reshape(dec,size(dec))\n",
    "    corr_factor = array([int(sign(c)) for c in dec]) # Since we cannot represent 2**(bits-1) value, we apply different correction factor\n",
    "                                             # for positive values and negative values \n",
    "    mthat = dec\n",
    "    mthat = array([int(ceil(c)) for c in mthat]) \n",
    "    mthat = mthat/2**(bits-1)\n",
    "    return mthat"
   ]
  },
  {
   "cell_type": "code",
   "execution_count": 2,
   "id": "7fb4189a",
   "metadata": {},
   "outputs": [],
   "source": [
    "import ascfun as af\n",
    "sd = 'Aa'\n",
    "st = af.asc2bin(sd,bits=8)\n",
    "dd = mt2pcm(st,bits=8)\n"
   ]
  },
  {
   "cell_type": "code",
   "execution_count": 3,
   "id": "2d7f9f69",
   "metadata": {},
   "outputs": [
    {
     "name": "stdout",
     "output_type": "stream",
     "text": [
      "The Result is Aa\n"
     ]
    }
   ],
   "source": [
    "ff = pcm2mt(dd, bits= 8)\n",
    "ww = np.sign(ff)\n",
    "txt = af.bin2asc(ww,bits=8)\n",
    "print(\"The Result is %s\" % txt)"
   ]
  },
  {
   "cell_type": "code",
   "execution_count": null,
   "id": "20ec4ee8",
   "metadata": {},
   "outputs": [],
   "source": []
  }
 ],
 "metadata": {
  "kernelspec": {
   "display_name": "Python 3",
   "language": "python",
   "name": "python3"
  },
  "language_info": {
   "codemirror_mode": {
    "name": "ipython",
    "version": 3
   },
   "file_extension": ".py",
   "mimetype": "text/x-python",
   "name": "python",
   "nbconvert_exporter": "python",
   "pygments_lexer": "ipython3",
   "version": "3.8.8"
  }
 },
 "nbformat": 4,
 "nbformat_minor": 5
}
